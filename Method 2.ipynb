{
 "cells": [
  {
   "cell_type": "code",
   "execution_count": 1,
   "metadata": {},
   "outputs": [],
   "source": [
    "import bz2\n",
    "import numpy as np"
   ]
  },
  {
   "cell_type": "code",
   "execution_count": 2,
   "metadata": {},
   "outputs": [],
   "source": [
    "def labels_text(x):\n",
    "  label=[]\n",
    "  text=[]\n",
    "  for line in bz2.BZ2File(x):\n",
    "    decode = line.decode(\"utf-8\")\n",
    "    label.append(int(decode[9]) - 1)\n",
    "    text.append(decode[10:].strip())\n",
    "  return np.array(label),text\n",
    "\n",
    "train_label, train_text = labels_text('train.ft.txt.bz2')\n",
    "test_label, test_text = labels_text('test.ft.txt.bz2')"
   ]
  },
  {
   "cell_type": "code",
   "execution_count": 3,
   "metadata": {},
   "outputs": [],
   "source": [
    "from sklearn.utils import shuffle\n",
    "train_text, train_label = shuffle(train_text, train_label, random_state=42)\n",
    "test_text, test_label = shuffle(test_text, test_label, random_state=42)"
   ]
  },
  {
   "cell_type": "code",
   "execution_count": 4,
   "metadata": {},
   "outputs": [],
   "source": [
    "train_text=train_text[0:2000]\n",
    "train_label=train_label[0:2000]"
   ]
  },
  {
   "cell_type": "code",
   "execution_count": 5,
   "metadata": {},
   "outputs": [],
   "source": [
    "test_text=test_text[0:500]\n",
    "test_label=test_label[0:500]"
   ]
  },
  {
   "cell_type": "code",
   "execution_count": 6,
   "metadata": {
    "scrolled": true
   },
   "outputs": [
    {
     "name": "stderr",
     "output_type": "stream",
     "text": [
      "[nltk_data] Downloading package stopwords to\n",
      "[nltk_data]     C:\\Users\\Manav\\AppData\\Roaming\\nltk_data...\n",
      "[nltk_data]   Package stopwords is already up-to-date!\n",
      "[nltk_data] Downloading package wordnet to\n",
      "[nltk_data]     C:\\Users\\Manav\\AppData\\Roaming\\nltk_data...\n",
      "[nltk_data]   Package wordnet is already up-to-date!\n"
     ]
    }
   ],
   "source": [
    "import re\n",
    "import nltk\n",
    "nltk.download('stopwords')\n",
    "nltk.download('wordnet')\n",
    "from nltk.corpus import stopwords\n",
    "from nltk.stem import WordNetLemmatizer\n",
    "\n",
    "def clean(any_text):\n",
    "    corpus=[]\n",
    "    for i in range(len(any_text)):\n",
    "        review = re.sub('\".*?\"', '', any_text[i]) #removing any word within quotation marks\n",
    "        review = re.sub('[^a-zA-Z]', ' ', review) #keeping only letters and removing anything else\n",
    "        review = review.lower()\n",
    "        review = review.split()\n",
    "        lem = WordNetLemmatizer()\n",
    "        all_stopwords = stopwords.words('english')\n",
    "        all_stopwords.remove('not')\n",
    "        review = [lem.lemmatize(word) for word in review if not word in set(all_stopwords)]\n",
    "        review = ' '.join(review)\n",
    "        corpus.append(review)\n",
    "    return corpus"
   ]
  },
  {
   "cell_type": "code",
   "execution_count": 7,
   "metadata": {},
   "outputs": [],
   "source": [
    "train_text = clean(train_text)\n",
    "test_text = clean(test_text)"
   ]
  },
  {
   "cell_type": "code",
   "execution_count": 8,
   "metadata": {},
   "outputs": [],
   "source": [
    "from sklearn.feature_extraction.text import TfidfVectorizer\n",
    "tfidf = TfidfVectorizer(lowercase=False)\n",
    "X = tfidf.fit_transform(train_text).toarray()\n",
    "y = train_label"
   ]
  },
  {
   "cell_type": "code",
   "execution_count": 9,
   "metadata": {},
   "outputs": [],
   "source": [
    "from sklearn.model_selection import train_test_split\n",
    "X_train, X_val, y_train, y_val = train_test_split(X, y, test_size = 0.25, random_state = 0)"
   ]
  },
  {
   "cell_type": "code",
   "execution_count": 10,
   "metadata": {},
   "outputs": [],
   "source": [
    "X_test = tfidf.transform(test_text).toarray()\n",
    "y_test = test_label"
   ]
  },
  {
   "cell_type": "markdown",
   "metadata": {},
   "source": [
    "LOGISTIC REGRESSION"
   ]
  },
  {
   "cell_type": "code",
   "execution_count": 11,
   "metadata": {},
   "outputs": [
    {
     "data": {
      "text/plain": [
       "LogisticRegression(C=2.75, class_weight=None, dual=False, fit_intercept=True,\n",
       "                   intercept_scaling=1, l1_ratio=None, max_iter=100,\n",
       "                   multi_class='auto', n_jobs=None, penalty='l2',\n",
       "                   random_state=0, solver='lbfgs', tol=0.0001, verbose=0,\n",
       "                   warm_start=False)"
      ]
     },
     "execution_count": 11,
     "metadata": {},
     "output_type": "execute_result"
    }
   ],
   "source": [
    "from sklearn.linear_model import LogisticRegression\n",
    "classifier_logistic = LogisticRegression(C=2.75,random_state = 0)  \n",
    "classifier_logistic.fit(X_train, y_train)"
   ]
  },
  {
   "cell_type": "code",
   "execution_count": 12,
   "metadata": {},
   "outputs": [],
   "source": [
    "y_pred_logistic = classifier_logistic.predict(X_val)"
   ]
  },
  {
   "cell_type": "code",
   "execution_count": 13,
   "metadata": {},
   "outputs": [
    {
     "name": "stdout",
     "output_type": "stream",
     "text": [
      "[[209  46]\n",
      " [ 42 203]]\n",
      "0.824\n"
     ]
    }
   ],
   "source": [
    "from sklearn.metrics import confusion_matrix, accuracy_score\n",
    "cm = confusion_matrix(y_val, y_pred_logistic)\n",
    "print(cm)\n",
    "acc = accuracy_score(y_val, y_pred_logistic)\n",
    "print(acc)"
   ]
  },
  {
   "cell_type": "code",
   "execution_count": 14,
   "metadata": {},
   "outputs": [
    {
     "name": "stdout",
     "output_type": "stream",
     "text": [
      "Accuracy: 83.40 %\n",
      "Standard Deviation: 2.18 %\n"
     ]
    }
   ],
   "source": [
    "from sklearn.model_selection import cross_val_score\n",
    "accuracies = cross_val_score(estimator = classifier_logistic, X = X_train, y = y_train, cv = 10)\n",
    "print(\"Accuracy: {:.2f} %\".format(accuracies.mean()*100))\n",
    "print(\"Standard Deviation: {:.2f} %\".format(accuracies.std()*100))"
   ]
  },
  {
   "cell_type": "code",
   "execution_count": 15,
   "metadata": {},
   "outputs": [
    {
     "data": {
      "text/plain": [
       "'from sklearn.model_selection import GridSearchCV\\nfrom sklearn.model_selection import GridSearchCV\\nparameters = [{\\'penalty\\':[\\'l2\\'],\\'C\\': [0.95,1,1.05]}]\\ngrid_search = GridSearchCV(estimator = classifier_logistic,\\n                           param_grid = parameters,\\n                           scoring = \\'accuracy\\',\\n                           cv = 3,\\n                           n_jobs=-1)\\ngrid_search.fit(X_train, y_train)\\nbest_accuracy = grid_search.best_score_\\nbest_parameters = grid_search.best_params_\\nprint(\"Best Accuracy: {:.2f} %\".format(best_accuracy.mean()*100))\\nprint(\"Best Parameters:\", best_parameters)'"
      ]
     },
     "execution_count": 15,
     "metadata": {},
     "output_type": "execute_result"
    }
   ],
   "source": [
    "'''from sklearn.model_selection import GridSearchCV\n",
    "from sklearn.model_selection import GridSearchCV\n",
    "parameters = [{'penalty':['l2'],'C': [0.95,1,1.05]}]\n",
    "grid_search = GridSearchCV(estimator = classifier_logistic,\n",
    "                           param_grid = parameters,\n",
    "                           scoring = 'accuracy',\n",
    "                           cv = 3,\n",
    "                           n_jobs=-1)\n",
    "grid_search.fit(X_train, y_train)\n",
    "best_accuracy = grid_search.best_score_\n",
    "best_parameters = grid_search.best_params_\n",
    "print(\"Best Accuracy: {:.2f} %\".format(best_accuracy.mean()*100))\n",
    "print(\"Best Parameters:\", best_parameters)'''"
   ]
  },
  {
   "cell_type": "code",
   "execution_count": 16,
   "metadata": {},
   "outputs": [],
   "source": [
    "y_pred_test = classifier_logistic.predict(X_test)"
   ]
  },
  {
   "cell_type": "code",
   "execution_count": 17,
   "metadata": {},
   "outputs": [
    {
     "name": "stdout",
     "output_type": "stream",
     "text": [
      "[[213  34]\n",
      " [ 46 207]]\n",
      "0.84\n"
     ]
    }
   ],
   "source": [
    "cm_final = confusion_matrix(y_test, y_pred_test)\n",
    "print(cm_final)\n",
    "acc_final = accuracy_score(y_test, y_pred_test)\n",
    "print(acc_final)"
   ]
  },
  {
   "cell_type": "markdown",
   "metadata": {},
   "source": [
    "SVM"
   ]
  },
  {
   "cell_type": "code",
   "execution_count": 18,
   "metadata": {},
   "outputs": [
    {
     "data": {
      "text/plain": [
       "SVC(C=0.75, break_ties=False, cache_size=200, class_weight=None, coef0=0.0,\n",
       "    decision_function_shape='ovr', degree=3, gamma=0.009, kernel='linear',\n",
       "    max_iter=-1, probability=False, random_state=0, shrinking=True, tol=0.001,\n",
       "    verbose=False)"
      ]
     },
     "execution_count": 18,
     "metadata": {},
     "output_type": "execute_result"
    }
   ],
   "source": [
    "from sklearn.svm import SVC\n",
    "classifier_svm = SVC(C=0.75,kernel = 'linear', gamma=0.009, random_state = 0) #83.2,13\n",
    "classifier_svm.fit(X_train, y_train)"
   ]
  },
  {
   "cell_type": "code",
   "execution_count": 19,
   "metadata": {},
   "outputs": [],
   "source": [
    "y_pred_svm = classifier_svm.predict(X_val)"
   ]
  },
  {
   "cell_type": "code",
   "execution_count": 20,
   "metadata": {
    "scrolled": true
   },
   "outputs": [
    {
     "name": "stdout",
     "output_type": "stream",
     "text": [
      "[[205  50]\n",
      " [ 37 208]]\n",
      "0.826\n"
     ]
    }
   ],
   "source": [
    "cm_svm = confusion_matrix(y_val, y_pred_svm)\n",
    "print(cm_svm)\n",
    "acc_svm = accuracy_score(y_val, y_pred_svm)\n",
    "print(acc_svm)"
   ]
  },
  {
   "cell_type": "code",
   "execution_count": 21,
   "metadata": {},
   "outputs": [
    {
     "name": "stdout",
     "output_type": "stream",
     "text": [
      "Accuracy: 82.53 %\n",
      "Standard Deviation: 2.78 %\n"
     ]
    }
   ],
   "source": [
    "accuracies = cross_val_score(estimator = classifier_svm, X = X_train, y = y_train, cv = 10)\n",
    "print(\"Accuracy: {:.2f} %\".format(accuracies.mean()*100))#8307\n",
    "print(\"Standard Deviation: {:.2f} %\".format(accuracies.std()*100))"
   ]
  },
  {
   "cell_type": "code",
   "execution_count": 22,
   "metadata": {},
   "outputs": [
    {
     "data": {
      "text/plain": [
       "'parameters = [{\\'C\\': [0.2,0.25,0.3,0.35,0.4], \\'kernel\\': [\\'linear\\'], \\'gamma\\': [0.009]}]\\ngrid_search = GridSearchCV(estimator = classifier_svm,\\n                           param_grid = parameters,\\n                           scoring = \\'accuracy\\',\\n                           cv = 3,\\n                           n_jobs=-1)\\ngrid_search.fit(X_train, y_train)\\nbest_accuracy = grid_search.best_score_\\nbest_parameters = grid_search.best_params_\\nprint(\"Best Accuracy: {:.2f} %\".format(best_accuracy.mean()*100))\\nprint(\"Best Parameters:\", best_parameters)'"
      ]
     },
     "execution_count": 22,
     "metadata": {},
     "output_type": "execute_result"
    }
   ],
   "source": [
    "'''parameters = [{'C': [0.2,0.25,0.3,0.35,0.4], 'kernel': ['linear'], 'gamma': [0.009]}]\n",
    "grid_search = GridSearchCV(estimator = classifier_svm,\n",
    "                           param_grid = parameters,\n",
    "                           scoring = 'accuracy',\n",
    "                           cv = 3,\n",
    "                           n_jobs=-1)\n",
    "grid_search.fit(X_train, y_train)\n",
    "best_accuracy = grid_search.best_score_\n",
    "best_parameters = grid_search.best_params_\n",
    "print(\"Best Accuracy: {:.2f} %\".format(best_accuracy.mean()*100))\n",
    "print(\"Best Parameters:\", best_parameters)'''"
   ]
  },
  {
   "cell_type": "code",
   "execution_count": 23,
   "metadata": {},
   "outputs": [],
   "source": [
    "y_pred_test = classifier_svm.predict(X_test)"
   ]
  },
  {
   "cell_type": "code",
   "execution_count": 24,
   "metadata": {},
   "outputs": [
    {
     "name": "stdout",
     "output_type": "stream",
     "text": [
      "[[207  40]\n",
      " [ 44 209]]\n",
      "0.832\n"
     ]
    }
   ],
   "source": [
    "cm_final = confusion_matrix(y_test, y_pred_test)\n",
    "print(cm_final)\n",
    "acc_final = accuracy_score(y_test, y_pred_test)\n",
    "print(acc_final)"
   ]
  },
  {
   "cell_type": "markdown",
   "metadata": {},
   "source": [
    "KERNEL SVM"
   ]
  },
  {
   "cell_type": "code",
   "execution_count": 25,
   "metadata": {},
   "outputs": [
    {
     "data": {
      "text/plain": [
       "SVC(C=1.75, break_ties=False, cache_size=200, class_weight=None, coef0=0.0,\n",
       "    decision_function_shape='ovr', degree=3, gamma=0.2, kernel='rbf',\n",
       "    max_iter=-1, probability=False, random_state=0, shrinking=True, tol=0.001,\n",
       "    verbose=False)"
      ]
     },
     "execution_count": 25,
     "metadata": {},
     "output_type": "execute_result"
    }
   ],
   "source": [
    "from sklearn.svm import SVC\n",
    "classifier_kernel = SVC(C=1.75,kernel = 'rbf', random_state = 0, gamma=0.2) #83.6\n",
    "classifier_kernel.fit(X_train, y_train)"
   ]
  },
  {
   "cell_type": "code",
   "execution_count": 26,
   "metadata": {},
   "outputs": [],
   "source": [
    "y_pred_kernel = classifier_kernel.predict(X_val)"
   ]
  },
  {
   "cell_type": "code",
   "execution_count": 27,
   "metadata": {
    "scrolled": true
   },
   "outputs": [
    {
     "name": "stdout",
     "output_type": "stream",
     "text": [
      "[[203  52]\n",
      " [ 37 208]]\n",
      "0.822\n"
     ]
    }
   ],
   "source": [
    "cm_kernel = confusion_matrix(y_val, y_pred_kernel)\n",
    "print(cm_kernel)\n",
    "acc_kernel = accuracy_score(y_val, y_pred_kernel)\n",
    "print(acc_kernel)"
   ]
  },
  {
   "cell_type": "code",
   "execution_count": 28,
   "metadata": {},
   "outputs": [
    {
     "name": "stdout",
     "output_type": "stream",
     "text": [
      "Accuracy: 82.60 %\n",
      "Standard Deviation: 2.37 %\n"
     ]
    }
   ],
   "source": [
    "accuracies = cross_val_score(estimator = classifier_kernel, X = X_train, y = y_train, cv = 10)\n",
    "print(\"Accuracy: {:.2f} %\".format(accuracies.mean()*100))\n",
    "print(\"Standard Deviation: {:.2f} %\".format(accuracies.std()*100))"
   ]
  },
  {
   "cell_type": "code",
   "execution_count": 29,
   "metadata": {},
   "outputs": [
    {
     "data": {
      "text/plain": [
       "'parameters = [{\\'C\\': [1.15,1.2,1.25], \\'kernel\\': [\\'rbf\\'], \\'gamma\\': [0.1,0.2,0.3]}]\\ngrid_search = GridSearchCV(estimator = classifier_kernel,\\n                           param_grid = parameters,\\n                           scoring = \\'accuracy\\',\\n                           cv = 3,\\n                           n_jobs=-1)\\ngrid_search.fit(X_train, y_train)\\nbest_accuracy = grid_search.best_score_\\nbest_parameters = grid_search.best_params_\\nprint(\"Best Accuracy: {:.2f} %\".format(best_accuracy.mean()*100))\\nprint(\"Best Parameters:\", best_parameters)'"
      ]
     },
     "execution_count": 29,
     "metadata": {},
     "output_type": "execute_result"
    }
   ],
   "source": [
    "'''parameters = [{'C': [1.15,1.2,1.25], 'kernel': ['rbf'], 'gamma': [0.1,0.2,0.3]}]\n",
    "grid_search = GridSearchCV(estimator = classifier_kernel,\n",
    "                           param_grid = parameters,\n",
    "                           scoring = 'accuracy',\n",
    "                           cv = 3,\n",
    "                           n_jobs=-1)\n",
    "grid_search.fit(X_train, y_train)\n",
    "best_accuracy = grid_search.best_score_\n",
    "best_parameters = grid_search.best_params_\n",
    "print(\"Best Accuracy: {:.2f} %\".format(best_accuracy.mean()*100))\n",
    "print(\"Best Parameters:\", best_parameters)'''"
   ]
  },
  {
   "cell_type": "code",
   "execution_count": 30,
   "metadata": {},
   "outputs": [],
   "source": [
    "y_pred_test = classifier_kernel.predict(X_test)"
   ]
  },
  {
   "cell_type": "code",
   "execution_count": 31,
   "metadata": {},
   "outputs": [
    {
     "name": "stdout",
     "output_type": "stream",
     "text": [
      "[[208  39]\n",
      " [ 44 209]]\n",
      "0.834\n"
     ]
    }
   ],
   "source": [
    "cm_final = confusion_matrix(y_test, y_pred_test)\n",
    "print(cm_final)\n",
    "acc_final = accuracy_score(y_test, y_pred_test)\n",
    "print(acc_final)"
   ]
  },
  {
   "cell_type": "markdown",
   "metadata": {},
   "source": [
    "KNN"
   ]
  },
  {
   "cell_type": "code",
   "execution_count": 32,
   "metadata": {},
   "outputs": [
    {
     "data": {
      "text/plain": [
       "KNeighborsClassifier(algorithm='auto', leaf_size=12, metric='minkowski',\n",
       "                     metric_params=None, n_jobs=None, n_neighbors=190, p=2,\n",
       "                     weights='distance')"
      ]
     },
     "execution_count": 32,
     "metadata": {},
     "output_type": "execute_result"
    }
   ],
   "source": [
    "from sklearn.neighbors import KNeighborsClassifier\n",
    "classifier_knn = KNeighborsClassifier(n_neighbors = 190, weights='distance',leaf_size=12,metric = 'minkowski', p = 2)\n",
    "classifier_knn.fit(X_train, y_train)"
   ]
  },
  {
   "cell_type": "code",
   "execution_count": 33,
   "metadata": {},
   "outputs": [],
   "source": [
    "y_pred_knn = classifier_knn.predict(X_val)"
   ]
  },
  {
   "cell_type": "code",
   "execution_count": 34,
   "metadata": {
    "scrolled": true
   },
   "outputs": [
    {
     "name": "stdout",
     "output_type": "stream",
     "text": [
      "[[174  81]\n",
      " [ 33 212]]\n",
      "0.772\n"
     ]
    }
   ],
   "source": [
    "cm_knn = confusion_matrix(y_val, y_pred_knn)\n",
    "print(cm_knn)\n",
    "acc_knn = accuracy_score(y_val, y_pred_knn)\n",
    "print(acc_knn)"
   ]
  },
  {
   "cell_type": "code",
   "execution_count": 35,
   "metadata": {},
   "outputs": [
    {
     "name": "stdout",
     "output_type": "stream",
     "text": [
      "Accuracy: 81.13 %\n",
      "Standard Deviation: 2.98 %\n"
     ]
    }
   ],
   "source": [
    "accuracies = cross_val_score(estimator = classifier_knn, X = X_train, y = y_train, cv = 10)\n",
    "print(\"Accuracy: {:.2f} %\".format(accuracies.mean()*100))\n",
    "print(\"Standard Deviation: {:.2f} %\".format(accuracies.std()*100))"
   ]
  },
  {
   "cell_type": "code",
   "execution_count": 36,
   "metadata": {},
   "outputs": [
    {
     "data": {
      "text/plain": [
       "'parameters = [{\\'n_neighbors\\': [175,200,225,250], \\'weights\\': [\\'uniform\\',\\'distance\\'], \\'leaf_size\\': [7,12,15,17]}]\\ngrid_search = GridSearchCV(estimator = classifier_knn,\\n                           param_grid = parameters,\\n                           scoring = \\'accuracy\\',\\n                           cv = 3,\\n                           n_jobs=-1)\\ngrid_search.fit(X_train, y_train)\\nbest_accuracy = grid_search.best_score_\\nbest_parameters = grid_search.best_params_\\nprint(\"Best Accuracy: {:.2f} %\".format(best_accuracy.mean()*100))\\nprint(\"Best Parameters:\", best_parameters)'"
      ]
     },
     "execution_count": 36,
     "metadata": {},
     "output_type": "execute_result"
    }
   ],
   "source": [
    "'''parameters = [{'n_neighbors': [175,200,225,250], 'weights': ['uniform','distance'], 'leaf_size': [7,12,15,17]}]\n",
    "grid_search = GridSearchCV(estimator = classifier_knn,\n",
    "                           param_grid = parameters,\n",
    "                           scoring = 'accuracy',\n",
    "                           cv = 3,\n",
    "                           n_jobs=-1)\n",
    "grid_search.fit(X_train, y_train)\n",
    "best_accuracy = grid_search.best_score_\n",
    "best_parameters = grid_search.best_params_\n",
    "print(\"Best Accuracy: {:.2f} %\".format(best_accuracy.mean()*100))\n",
    "print(\"Best Parameters:\", best_parameters)'''\n",
    "#Best Accuracy: 80.80 %\n",
    "#Best Parameters: {'leaf_size': 25, 'n_neighbors': 225, 'weights': 'uniform'}\n",
    "#Best Accuracy: 81.07 %\n",
    "#Best Parameters: {'leaf_size': 15, 'n_neighbors': 200, 'weights': 'distance'}"
   ]
  },
  {
   "cell_type": "code",
   "execution_count": 37,
   "metadata": {},
   "outputs": [],
   "source": [
    "y_pred_test = classifier_knn.predict(X_test)"
   ]
  },
  {
   "cell_type": "code",
   "execution_count": 38,
   "metadata": {},
   "outputs": [
    {
     "name": "stdout",
     "output_type": "stream",
     "text": [
      "[[181  66]\n",
      " [ 38 215]]\n",
      "0.792\n"
     ]
    }
   ],
   "source": [
    "cm_final = confusion_matrix(y_test, y_pred_test)\n",
    "print(cm_final)\n",
    "acc_final = accuracy_score(y_test, y_pred_test)\n",
    "print(acc_final)"
   ]
  },
  {
   "cell_type": "markdown",
   "metadata": {},
   "source": [
    "NAIVE BAYES"
   ]
  },
  {
   "cell_type": "code",
   "execution_count": 39,
   "metadata": {},
   "outputs": [
    {
     "data": {
      "text/plain": [
       "GaussianNB(priors=None, var_smoothing=1e-09)"
      ]
     },
     "execution_count": 39,
     "metadata": {},
     "output_type": "execute_result"
    }
   ],
   "source": [
    "from sklearn.naive_bayes import GaussianNB\n",
    "classifier_nb = GaussianNB()\n",
    "classifier_nb.fit(X_train, y_train)"
   ]
  },
  {
   "cell_type": "code",
   "execution_count": 40,
   "metadata": {},
   "outputs": [],
   "source": [
    "y_pred_nb = classifier_nb.predict(X_val)"
   ]
  },
  {
   "cell_type": "code",
   "execution_count": 41,
   "metadata": {
    "scrolled": true
   },
   "outputs": [
    {
     "name": "stdout",
     "output_type": "stream",
     "text": [
      "[[148 107]\n",
      " [111 134]]\n",
      "0.564\n"
     ]
    }
   ],
   "source": [
    "cm_nb = confusion_matrix(y_val, y_pred_nb)\n",
    "print(cm_nb)\n",
    "acc_nb = accuracy_score(y_val, y_pred_nb)\n",
    "print(acc_nb)"
   ]
  },
  {
   "cell_type": "code",
   "execution_count": 42,
   "metadata": {},
   "outputs": [
    {
     "name": "stdout",
     "output_type": "stream",
     "text": [
      "Accuracy: 60.33 %\n",
      "Standard Deviation: 4.08 %\n"
     ]
    }
   ],
   "source": [
    "accuracies = cross_val_score(estimator = classifier_nb, X = X_train, y = y_train, cv = 10)\n",
    "print(\"Accuracy: {:.2f} %\".format(accuracies.mean()*100))\n",
    "print(\"Standard Deviation: {:.2f} %\".format(accuracies.std()*100))"
   ]
  },
  {
   "cell_type": "markdown",
   "metadata": {},
   "source": [
    "DECISION TREES"
   ]
  },
  {
   "cell_type": "code",
   "execution_count": 43,
   "metadata": {},
   "outputs": [
    {
     "data": {
      "text/plain": [
       "DecisionTreeClassifier(ccp_alpha=0.0, class_weight=None, criterion='entropy',\n",
       "                       max_depth=None, max_features=None, max_leaf_nodes=None,\n",
       "                       min_impurity_decrease=0.0, min_impurity_split=None,\n",
       "                       min_samples_leaf=1, min_samples_split=2,\n",
       "                       min_weight_fraction_leaf=0.0, presort='deprecated',\n",
       "                       random_state=0, splitter='best')"
      ]
     },
     "execution_count": 43,
     "metadata": {},
     "output_type": "execute_result"
    }
   ],
   "source": [
    "from sklearn.tree import DecisionTreeClassifier\n",
    "classifier_dt = DecisionTreeClassifier(criterion = 'entropy', random_state = 0)\n",
    "classifier_dt.fit(X_train, y_train)"
   ]
  },
  {
   "cell_type": "code",
   "execution_count": 44,
   "metadata": {},
   "outputs": [],
   "source": [
    "y_pred_dt = classifier_dt.predict(X_val)"
   ]
  },
  {
   "cell_type": "code",
   "execution_count": 45,
   "metadata": {
    "scrolled": true
   },
   "outputs": [
    {
     "name": "stdout",
     "output_type": "stream",
     "text": [
      "[[176  79]\n",
      " [ 58 187]]\n",
      "0.726\n"
     ]
    }
   ],
   "source": [
    "cm_dt = confusion_matrix(y_val, y_pred_dt)\n",
    "print(cm_dt)\n",
    "acc_dt = accuracy_score(y_val, y_pred_dt)\n",
    "print(acc_dt)"
   ]
  },
  {
   "cell_type": "code",
   "execution_count": 46,
   "metadata": {},
   "outputs": [
    {
     "name": "stdout",
     "output_type": "stream",
     "text": [
      "Accuracy: 70.47 %\n",
      "Standard Deviation: 3.85 %\n"
     ]
    }
   ],
   "source": [
    "accuracies = cross_val_score(estimator = classifier_dt, X = X_train, y = y_train, cv = 10)\n",
    "print(\"Accuracy: {:.2f} %\".format(accuracies.mean()*100))\n",
    "print(\"Standard Deviation: {:.2f} %\".format(accuracies.std()*100))"
   ]
  },
  {
   "cell_type": "markdown",
   "metadata": {},
   "source": [
    "RANDOM FOREST CLASSIFIER"
   ]
  },
  {
   "cell_type": "code",
   "execution_count": 47,
   "metadata": {},
   "outputs": [
    {
     "data": {
      "text/plain": [
       "RandomForestClassifier(bootstrap=True, ccp_alpha=0.0, class_weight=None,\n",
       "                       criterion='gini', max_depth=7, max_features='auto',\n",
       "                       max_leaf_nodes=None, max_samples=None,\n",
       "                       min_impurity_decrease=0.0, min_impurity_split=None,\n",
       "                       min_samples_leaf=1, min_samples_split=7,\n",
       "                       min_weight_fraction_leaf=0.0, n_estimators=800,\n",
       "                       n_jobs=None, oob_score=False, random_state=None,\n",
       "                       verbose=0, warm_start=False)"
      ]
     },
     "execution_count": 47,
     "metadata": {},
     "output_type": "execute_result"
    }
   ],
   "source": [
    "from sklearn.ensemble import RandomForestClassifier\n",
    "classifier_rf = RandomForestClassifier(max_depth=7, max_features= 'auto', min_samples_split=7, n_estimators= 800)\n",
    "classifier_rf.fit(X_train, y_train)"
   ]
  },
  {
   "cell_type": "code",
   "execution_count": 48,
   "metadata": {},
   "outputs": [],
   "source": [
    "y_pred_rf = classifier_rf.predict(X_val)"
   ]
  },
  {
   "cell_type": "code",
   "execution_count": 49,
   "metadata": {
    "scrolled": true
   },
   "outputs": [
    {
     "name": "stdout",
     "output_type": "stream",
     "text": [
      "[[194  61]\n",
      " [ 21 224]]\n",
      "0.836\n"
     ]
    }
   ],
   "source": [
    "cm_rf = confusion_matrix(y_val, y_pred_rf) \n",
    "print(cm_rf)\n",
    "acc_rf = accuracy_score(y_val, y_pred_rf)\n",
    "print(acc_rf)"
   ]
  },
  {
   "cell_type": "code",
   "execution_count": 50,
   "metadata": {},
   "outputs": [
    {
     "name": "stdout",
     "output_type": "stream",
     "text": [
      "Accuracy: 81.20 %\n",
      "Standard Deviation: 2.99 %\n"
     ]
    }
   ],
   "source": [
    "accuracies = cross_val_score(estimator = classifier_rf, X = X_train, y = y_train, cv = 10)\n",
    "print(\"Accuracy: {:.2f} %\".format(accuracies.mean()*100))\n",
    "print(\"Standard Deviation: {:.2f} %\".format(accuracies.std()*100))"
   ]
  },
  {
   "cell_type": "code",
   "execution_count": 51,
   "metadata": {},
   "outputs": [
    {
     "data": {
      "text/plain": [
       "'parameters = [{\\'n_estimators\\': [800,825], \\'max_features\\': [\\'auto\\'], \\n               \\'max_depth\\': [8,9], \\'min_samples_split\\':[8,9], \\n               \\'min_samples_leaf\\':[0.5,1],\\'bootstrap\\':[True,False]}]\\ngrid_search = GridSearchCV(estimator = classifier_rf,\\n                           param_grid = parameters,\\n                           scoring = \\'accuracy\\',\\n                           cv = 3,\\n                           n_jobs=-1)\\ngrid_search.fit(X_train, y_train)\\nbest_accuracy = grid_search.best_score_\\nbest_parameters = grid_search.best_params_\\nprint(\"Best Accuracy: {:.2f} %\".format(best_accuracy.mean()*100))\\nprint(\"Best Parameters:\", best_parameters)'"
      ]
     },
     "execution_count": 51,
     "metadata": {},
     "output_type": "execute_result"
    }
   ],
   "source": [
    "'''parameters = [{'n_estimators': [800,825], 'max_features': ['auto'], \n",
    "               'max_depth': [8,9], 'min_samples_split':[8,9], \n",
    "               'min_samples_leaf':[0.5,1],'bootstrap':[True,False]}]\n",
    "grid_search = GridSearchCV(estimator = classifier_rf,\n",
    "                           param_grid = parameters,\n",
    "                           scoring = 'accuracy',\n",
    "                           cv = 3,\n",
    "                           n_jobs=-1)\n",
    "grid_search.fit(X_train, y_train)\n",
    "best_accuracy = grid_search.best_score_\n",
    "best_parameters = grid_search.best_params_\n",
    "print(\"Best Accuracy: {:.2f} %\".format(best_accuracy.mean()*100))\n",
    "print(\"Best Parameters:\", best_parameters)'''\n",
    "#Best Accuracy: 81.67 %\n",
    "#Best Parameters: {'bootstrap': False, 'max_depth': 8, 'max_features': 'auto', 'min_samples_leaf': 1, 'min_samples_split': 8, 'n_estimators': 800}"
   ]
  },
  {
   "cell_type": "code",
   "execution_count": 52,
   "metadata": {},
   "outputs": [],
   "source": [
    "y_pred_test = classifier_rf.predict(X_test)"
   ]
  },
  {
   "cell_type": "code",
   "execution_count": 53,
   "metadata": {},
   "outputs": [
    {
     "name": "stdout",
     "output_type": "stream",
     "text": [
      "[[187  60]\n",
      " [ 31 222]]\n",
      "0.818\n"
     ]
    }
   ],
   "source": [
    "cm_final = confusion_matrix(y_test, y_pred_test)\n",
    "print(cm_final)\n",
    "acc_final = accuracy_score(y_test, y_pred_test)\n",
    "print(acc_final)"
   ]
  },
  {
   "cell_type": "markdown",
   "metadata": {},
   "source": [
    "XG BOOST"
   ]
  },
  {
   "cell_type": "code",
   "execution_count": 54,
   "metadata": {},
   "outputs": [
    {
     "name": "stdout",
     "output_type": "stream",
     "text": [
      "Requirement already satisfied: xgboost in d:\\anaconda\\lib\\site-packages (1.2.0)\n",
      "Requirement already satisfied: numpy in d:\\anaconda\\lib\\site-packages (from xgboost) (1.18.1)\n",
      "Requirement already satisfied: scipy in d:\\anaconda\\lib\\site-packages (from xgboost) (1.4.1)\n",
      "Note: you may need to restart the kernel to use updated packages.\n"
     ]
    }
   ],
   "source": [
    "pip install xgboost"
   ]
  },
  {
   "cell_type": "code",
   "execution_count": 55,
   "metadata": {},
   "outputs": [
    {
     "data": {
      "text/plain": [
       "XGBClassifier(base_score=0.5, booster='gbtree', colsample_bylevel=1,\n",
       "              colsample_bynode=1, colsample_bytree=1, gamma=0, gpu_id=-1,\n",
       "              importance_type='gain', interaction_constraints='',\n",
       "              learning_rate=0.300000012, max_delta_step=0, max_depth=6,\n",
       "              min_child_weight=1, missing=nan, monotone_constraints='()',\n",
       "              n_estimators=100, n_jobs=0, num_parallel_tree=1,\n",
       "              objective='binary:logistic', random_state=0, reg_alpha=0,\n",
       "              reg_lambda=1, scale_pos_weight=1, subsample=1,\n",
       "              tree_method='exact', validate_parameters=1, verbosity=None)"
      ]
     },
     "execution_count": 55,
     "metadata": {},
     "output_type": "execute_result"
    }
   ],
   "source": [
    "from xgboost import XGBClassifier\n",
    "classifier_xgb = XGBClassifier()\n",
    "classifier_xgb.fit(X_train, y_train)"
   ]
  },
  {
   "cell_type": "code",
   "execution_count": 56,
   "metadata": {},
   "outputs": [],
   "source": [
    "y_pred_xgb = classifier_xgb.predict(X_val)"
   ]
  },
  {
   "cell_type": "code",
   "execution_count": 57,
   "metadata": {
    "scrolled": true
   },
   "outputs": [
    {
     "name": "stdout",
     "output_type": "stream",
     "text": [
      "[[211  44]\n",
      " [ 44 201]]\n",
      "0.824\n"
     ]
    }
   ],
   "source": [
    "cm_xgb = confusion_matrix(y_val, y_pred_xgb)\n",
    "print(cm_xgb)\n",
    "acc_xgb = accuracy_score(y_val, y_pred_xgb)\n",
    "print(acc_xgb)"
   ]
  },
  {
   "cell_type": "code",
   "execution_count": 58,
   "metadata": {},
   "outputs": [
    {
     "name": "stdout",
     "output_type": "stream",
     "text": [
      "Accuracy: 79.73 %\n",
      "Standard Deviation: 3.49 %\n"
     ]
    }
   ],
   "source": [
    "accuracies = cross_val_score(estimator = classifier_xgb, X = X_train, y = y_train, cv = 10)\n",
    "print(\"Accuracy: {:.2f} %\".format(accuracies.mean()*100))\n",
    "print(\"Standard Deviation: {:.2f} %\".format(accuracies.std()*100))"
   ]
  },
  {
   "cell_type": "code",
   "execution_count": 59,
   "metadata": {},
   "outputs": [],
   "source": [
    "y_pred_test = classifier_xgb.predict(X_test)"
   ]
  },
  {
   "cell_type": "code",
   "execution_count": 60,
   "metadata": {},
   "outputs": [
    {
     "name": "stdout",
     "output_type": "stream",
     "text": [
      "[[201  46]\n",
      " [ 49 204]]\n",
      "0.81\n"
     ]
    }
   ],
   "source": [
    "cm_final = confusion_matrix(y_test, y_pred_test)\n",
    "print(cm_final)\n",
    "acc_final = accuracy_score(y_test, y_pred_test)\n",
    "print(acc_final)"
   ]
  },
  {
   "cell_type": "markdown",
   "metadata": {},
   "source": [
    "CATBOOST"
   ]
  },
  {
   "cell_type": "code",
   "execution_count": 61,
   "metadata": {},
   "outputs": [
    {
     "name": "stdout",
     "output_type": "stream",
     "text": [
      "Requirement already satisfied: catboost in d:\\anaconda\\lib\\site-packages (0.24.1)\n",
      "Requirement already satisfied: graphviz in d:\\anaconda\\lib\\site-packages (from catboost) (0.14.1)\n",
      "Requirement already satisfied: matplotlib in d:\\anaconda\\lib\\site-packages (from catboost) (3.1.3)\n",
      "Requirement already satisfied: six in d:\\anaconda\\lib\\site-packages (from catboost) (1.14.0)\n",
      "Requirement already satisfied: numpy>=1.16.0 in d:\\anaconda\\lib\\site-packages (from catboost) (1.18.1)\n",
      "Requirement already satisfied: scipy in d:\\anaconda\\lib\\site-packages (from catboost) (1.4.1)\n",
      "Requirement already satisfied: plotly in d:\\anaconda\\lib\\site-packages (from catboost) (4.10.0)\n",
      "Requirement already satisfied: pandas>=0.24.0 in d:\\anaconda\\lib\\site-packages (from catboost) (1.0.1)\n",
      "Requirement already satisfied: pyparsing!=2.0.4,!=2.1.2,!=2.1.6,>=2.0.1 in d:\\anaconda\\lib\\site-packages (from matplotlib->catboost) (2.4.6)\n",
      "Requirement already satisfied: cycler>=0.10 in d:\\anaconda\\lib\\site-packages (from matplotlib->catboost) (0.10.0)\n",
      "Requirement already satisfied: python-dateutil>=2.1 in d:\\anaconda\\lib\\site-packages (from matplotlib->catboost) (2.8.1)\n",
      "Requirement already satisfied: kiwisolver>=1.0.1 in d:\\anaconda\\lib\\site-packages (from matplotlib->catboost) (1.1.0)\n",
      "Requirement already satisfied: retrying>=1.3.3 in d:\\anaconda\\lib\\site-packages (from plotly->catboost) (1.3.3)\n",
      "Requirement already satisfied: pytz>=2017.2 in d:\\anaconda\\lib\\site-packages (from pandas>=0.24.0->catboost) (2019.3)\n",
      "Requirement already satisfied: setuptools in d:\\anaconda\\lib\\site-packages (from kiwisolver>=1.0.1->matplotlib->catboost) (45.2.0.post20200210)\n",
      "Note: you may need to restart the kernel to use updated packages.\n"
     ]
    }
   ],
   "source": [
    "pip install catboost"
   ]
  },
  {
   "cell_type": "code",
   "execution_count": null,
   "metadata": {
    "scrolled": false
   },
   "outputs": [],
   "source": [
    "from catboost import CatBoostClassifier\n",
    "classifier_ctb = CatBoostClassifier()\n",
    "classifier_ctb.fit(X_train, y_train)"
   ]
  },
  {
   "cell_type": "code",
   "execution_count": 63,
   "metadata": {},
   "outputs": [],
   "source": [
    "y_pred_ctb = classifier_ctb.predict(X_val)"
   ]
  },
  {
   "cell_type": "code",
   "execution_count": 64,
   "metadata": {},
   "outputs": [
    {
     "name": "stdout",
     "output_type": "stream",
     "text": [
      "[[211  44]\n",
      " [ 36 209]]\n",
      "0.84\n"
     ]
    }
   ],
   "source": [
    "cm_ctb = confusion_matrix(y_val, y_pred_ctb)\n",
    "print(cm_ctb)\n",
    "acc_ctb = accuracy_score(y_val, y_pred_ctb)\n",
    "print(acc_ctb)"
   ]
  },
  {
   "cell_type": "code",
   "execution_count": null,
   "metadata": {
    "scrolled": true
   },
   "outputs": [],
   "source": [
    "accuracies = cross_val_score(estimator = classifier_ctb, X = X_train, y = y_train, cv = 10)\n",
    "print(\"Accuracy: {:.2f} %\".format(accuracies.mean()*100))\n",
    "print(\"Standard Deviation: {:.2f} %\".format(accuracies.std()*100))\n",
    "\n",
    "#Accuracy: 80.40 %\n",
    "#Standard Deviation: 4.08 %"
   ]
  },
  {
   "cell_type": "code",
   "execution_count": 66,
   "metadata": {},
   "outputs": [],
   "source": [
    "y_pred_test = classifier_ctb.predict(X_test)"
   ]
  },
  {
   "cell_type": "code",
   "execution_count": 67,
   "metadata": {},
   "outputs": [
    {
     "name": "stdout",
     "output_type": "stream",
     "text": [
      "[[200  47]\n",
      " [ 49 204]]\n",
      "0.808\n"
     ]
    }
   ],
   "source": [
    "cm_final = confusion_matrix(y_test, y_pred_test)\n",
    "print(cm_final)\n",
    "acc_final = accuracy_score(y_test, y_pred_test)\n",
    "print(acc_final)"
   ]
  },
  {
   "cell_type": "markdown",
   "metadata": {},
   "source": [
    "# PREDICTIONS (LOGISTIC REGRESION) #BEST ACCURACY"
   ]
  },
  {
   "cell_type": "code",
   "execution_count": 71,
   "metadata": {},
   "outputs": [
    {
     "name": "stdout",
     "output_type": "stream",
     "text": [
      "[0]\n"
     ]
    }
   ],
   "source": [
    "#1 star review\n",
    "new_review = \"I took four photo prints on glossy A4 sheets and \\\n",
    "            two photo prints on normal A4 sheets: that means total six copies. \\\n",
    "            And there you go, it says the cartridge is exhausted! What a nonsense! \\\n",
    "            Rs. 685 for six photos, that too excluding the photo paper costs! \\\n",
    "            They are telling lies about the number of prints possible. Maybe \\\n",
    "            it may be possible to take 150 colour prints with this with a lot \\\n",
    "            of white space, like an MS word document with a few heading lines \\\n",
    "            in colours. I have HP Deskjet Ink Advantage 2135 which I bought a \\\n",
    "            couple of weeks ago. Neither the printer nor this cartridge is meant \\\n",
    "            for photo printing.\"\n",
    "new_review = re.sub('\".*?\"', '', new_review)\n",
    "new_review = re.sub('[^a-zA-Z]', ' ', new_review)\n",
    "new_review = new_review.lower()\n",
    "new_review = new_review.split()\n",
    "all_stopwords = stopwords.words('english')\n",
    "all_stopwords.remove('not')\n",
    "lem = WordNetLemmatizer()\n",
    "new_review = [lem.lemmatize(word) for word in new_review if not word in set(all_stopwords)]\n",
    "new_review = ' '.join(new_review)\n",
    "new_corpus = [new_review]\n",
    "new_X_test = tfidf.transform(new_corpus).toarray()\n",
    "new_y_pred = classifier_logistic.predict(new_X_test)\n",
    "print(new_y_pred)"
   ]
  },
  {
   "cell_type": "code",
   "execution_count": 72,
   "metadata": {},
   "outputs": [
    {
     "name": "stdout",
     "output_type": "stream",
     "text": [
      "[1]\n"
     ]
    }
   ],
   "source": [
    "#4 star review\n",
    "new_review = \"I like these headphones. They are really sharp and very futuristic. \\\n",
    "            The quality is very well-made and quite sturdy. The sound quality for\\\n",
    "            when connected to blutooth is amazing. Better than the Bose Soundlink \\\n",
    "            I bought. BUT my personal downside about this headphone is there is way \\\n",
    "            to much muffled bass. I mean a LOT of bass. So if a lot of bass in your\\\n",
    "            trunk is what you want, get these. However, if you want the clarity and\\\n",
    "            crispness with good bass, this is not for you. Dont get me wrong, these\\\n",
    "            are quality made headphones that many people will be very pleased with,\\\n",
    "            but being a bit of an audiohile, I wanted something with more crispness. \\\n",
    "            I want to hear every intrument in great detail, but these headphones tend\\\n",
    "            to push the music to the back and the bass to the front. I used these \\\n",
    "            headphones with my iphone 5s and 6s and a Sony Experia Z3. It might be \\\n",
    "            better if you were using them plugged straight into an AMP or for Dj-ing.\\\n",
    "            V-moda supplies Dj accessories and a microphone. In fact, if you are a DJ,\\\n",
    "            I would say these are definitely for you. If you are not a DJ and want a \\\n",
    "            higher quality headphone, get the high-end Sennheisers. The will defintely\\\n",
    "            be a better choice for your lsitening, but As far as I am aware, they are \\\n",
    "            all wired and dont supply a blutooth headphone. They also dont fold flat \\\n",
    "            so the case is quite large. Get the XL cushions from V-MOda unless you have\\\n",
    "            small ears. The XL cushions from V moda will set you back about 20 bucks but\\\n",
    "            are definitely worth the money. Additionally, the guard plates on both headphones\\\n",
    "            are interchangeable and customisable direct from V-moda. Some available even in\\\n",
    "            actual gold.\"\n",
    "new_review = re.sub('\".*?\"', '', new_review)\n",
    "new_review = re.sub('[^a-zA-Z]', ' ', new_review)\n",
    "new_review = new_review.lower()\n",
    "new_review = new_review.split()\n",
    "all_stopwords = stopwords.words('english')\n",
    "all_stopwords.remove('not')\n",
    "lem = WordNetLemmatizer()\n",
    "new_review = [lem.lemmatize(word) for word in new_review if not word in set(all_stopwords)]\n",
    "new_review = ' '.join(new_review)\n",
    "new_corpus = [new_review]\n",
    "new_X_test = tfidf.transform(new_corpus).toarray()\n",
    "new_y_pred = classifier_logistic.predict(new_X_test)\n",
    "print(new_y_pred)"
   ]
  },
  {
   "cell_type": "code",
   "execution_count": 75,
   "metadata": {},
   "outputs": [
    {
     "name": "stdout",
     "output_type": "stream",
     "text": [
      "[0]\n"
     ]
    }
   ],
   "source": [
    "#3 star review\n",
    "new_review = \"Build quality is good and there is no Flex. Screen is a TN panel so not\\\n",
    "            that good as an IPS panel, there is slight bluish tinge in the panel. Sound quality is\\\n",
    "            OK. Keyboard keys are bit compressed so not the same experience in typing as for other\\\n",
    "            high ranging thinkpad. There is no heating issue. Performance for normal task is fine \\\n",
    "            because of SSD. Just looking at it feels that this thing is going to last long\"\n",
    "new_review = re.sub('\".*?\"', '', new_review)\n",
    "new_review = re.sub('[^a-zA-Z]', ' ', new_review)\n",
    "new_review = new_review.lower()\n",
    "new_review = new_review.split()\n",
    "all_stopwords = stopwords.words('english')\n",
    "all_stopwords.remove('not')\n",
    "lem = WordNetLemmatizer()\n",
    "new_review = [lem.lemmatize(word) for word in new_review if not word in set(all_stopwords)]\n",
    "new_review = ' '.join(new_review)\n",
    "new_corpus = [new_review]\n",
    "new_X_test = tfidf.transform(new_corpus).toarray()\n",
    "new_y_pred = classifier_logistic.predict(new_X_test)\n",
    "print(new_y_pred)"
   ]
  },
  {
   "cell_type": "code",
   "execution_count": null,
   "metadata": {},
   "outputs": [],
   "source": []
  }
 ],
 "metadata": {
  "kernelspec": {
   "display_name": "Python 3",
   "language": "python",
   "name": "python3"
  },
  "language_info": {
   "codemirror_mode": {
    "name": "ipython",
    "version": 3
   },
   "file_extension": ".py",
   "mimetype": "text/x-python",
   "name": "python",
   "nbconvert_exporter": "python",
   "pygments_lexer": "ipython3",
   "version": "3.7.6"
  }
 },
 "nbformat": 4,
 "nbformat_minor": 4
}
